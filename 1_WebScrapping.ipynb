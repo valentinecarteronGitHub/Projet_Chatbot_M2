{
 "cells": [
  {
   "cell_type": "markdown",
   "metadata": {},
   "source": [
    "# Projet Chatbot\n",
    "## Emilie Longuevre / Léna Nock / Valentine Carteron"
   ]
  },
  {
   "cell_type": "markdown",
   "metadata": {},
   "source": [
    "### 1. Importation des packages"
   ]
  },
  {
   "cell_type": "code",
   "execution_count": 32,
   "metadata": {},
   "outputs": [],
   "source": [
    "import requests\n",
    "from bs4 import BeautifulSoup, Tag, NavigableString\n",
    "from urllib.error import HTTPError, URLError\n",
    "from urllib.request import urlopen\n",
    "import pickle\n",
    "import pandas as pd\n",
    "import re"
   ]
  },
  {
   "cell_type": "code",
   "execution_count": 2,
   "metadata": {},
   "outputs": [],
   "source": [
    "#site surlequel on réalise le webscrapping: Foire aux questions de la page Vinted\n",
    "site = \"https://www.vinted.fr/help\"\n",
    "# commande pour accéder aux données \n",
    "response = requests.get(site)"
   ]
  },
  {
   "cell_type": "markdown",
   "metadata": {},
   "source": [
    "### 2. Récupérer toutes les urls des catégories du centre d'aide \n",
    "On récupère les urls des neuf catégories du centre d'aide."
   ]
  },
  {
   "cell_type": "code",
   "execution_count": 3,
   "metadata": {},
   "outputs": [
    {
     "data": {
      "text/plain": [
       "['https://www.vinted.fr/help/16-comment-ca-marche',\n",
       " 'https://www.vinted.fr/help/4-vendre',\n",
       " 'https://www.vinted.fr/help/5-acheter',\n",
       " 'https://www.vinted.fr/help/313-envoi',\n",
       " 'https://www.vinted.fr/help/418-paiements-et-transferts',\n",
       " 'https://www.vinted.fr/help/15-confiance-et-securite',\n",
       " 'https://www.vinted.fr/help/392-mon-compte-parametres',\n",
       " 'https://www.vinted.fr/help/383-communaute',\n",
       " 'https://www.vinted.fr/help/103-se-connecter']"
      ]
     },
     "execution_count": 3,
     "metadata": {},
     "output_type": "execute_result"
    }
   ],
   "source": [
    "urls_categorie1 = []\n",
    "href = (BeautifulSoup(response.text)\n",
    "          .select(\"html body div.site div.container div.faq div.faq__categories a.faq__category\"))\n",
    "for ref in href :\n",
    "    urls_categorie1.append(\"https://www.vinted.fr\" + ref.get('href'))\n",
    "urls_categorie1"
   ]
  },
  {
   "cell_type": "markdown",
   "metadata": {},
   "source": [
    "On enregistre cette liste au format .txt pour conserver une trace de ces urls."
   ]
  },
  {
   "cell_type": "code",
   "execution_count": 6,
   "metadata": {},
   "outputs": [
    {
     "data": {
      "text/plain": [
       "['https://www.vinted.fr/help/16-comment-ca-marche',\n",
       " 'https://www.vinted.fr/help/4-vendre',\n",
       " 'https://www.vinted.fr/help/5-acheter',\n",
       " 'https://www.vinted.fr/help/313-envoi',\n",
       " 'https://www.vinted.fr/help/418-paiements-et-transferts',\n",
       " 'https://www.vinted.fr/help/15-confiance-et-securite',\n",
       " 'https://www.vinted.fr/help/392-mon-compte-parametres',\n",
       " 'https://www.vinted.fr/help/383-communaute',\n",
       " 'https://www.vinted.fr/help/103-se-connecter']"
      ]
     },
     "execution_count": 6,
     "metadata": {},
     "output_type": "execute_result"
    }
   ],
   "source": [
    "# with open('urls_categorie1.txt', 'w') as f:\n",
    "#     for url in urls_categorie1:\n",
    "#         f.write(f'{url}\\n')\n",
    "\n",
    "# urls_categorie1 = open(\"urls_categorie1.txt\", \"r\")\n",
    "# urls_categorie1 = urls_categorie1.read().split(\"\\n\")\n",
    "# urls_categorie1 = urls_categorie1[:-1]\n",
    "# urls_categorie1"
   ]
  },
  {
   "cell_type": "markdown",
   "metadata": {},
   "source": [
    "Pour accéder aux réponses on doit passer par des sous-catégories de question. On va donc récupérer l'ensemble des urls menant aux réponses. On créé donc une fonction afin d'optimiser le code. Au maximum, on a trois sous catégories, donc on lance la fonction 'récupération_url' trois fois."
   ]
  },
  {
   "cell_type": "code",
   "execution_count": 4,
   "metadata": {},
   "outputs": [],
   "source": [
    "def recuperation_url(urls) :\n",
    "    urls_categorie_sup = []\n",
    "    for url in urls : \n",
    "        # on précise l'url qu'on va explorer\n",
    "        response = requests.get(url)\n",
    "        # on sélectionne les liens présents dans ces pages\n",
    "        href = (BeautifulSoup(response.text)\n",
    "                  .select(\"html body div.site div.container div.faq a.c-cell__link\"))\n",
    "        # s'il y a une sous catégorie:\n",
    "        if href != [] :\n",
    "            for ref in href :\n",
    "                # on ajoute l'url qui suit dans la liste des catégories supérieurs\n",
    "                urls_categorie_sup.append(\"https://www.vinted.fr\" + ref.get('href'))\n",
    "        # s'il n'y a pas de sous catégories:\n",
    "        else : \n",
    "            # on ajoute l'url actuel\n",
    "            urls_categorie_sup.append(url)\n",
    "    return urls_categorie_sup"
   ]
  },
  {
   "cell_type": "code",
   "execution_count": 5,
   "metadata": {},
   "outputs": [],
   "source": [
    "urls_categorie2 = recuperation_url(urls_categorie1)"
   ]
  },
  {
   "cell_type": "code",
   "execution_count": 9,
   "metadata": {},
   "outputs": [
    {
     "data": {
      "text/plain": [
       "52"
      ]
     },
     "execution_count": 9,
     "metadata": {},
     "output_type": "execute_result"
    }
   ],
   "source": [
    "len(urls_categorie2)"
   ]
  },
  {
   "cell_type": "code",
   "execution_count": 15,
   "metadata": {},
   "outputs": [],
   "source": [
    "# with open('urls_categorie2.txt', 'w') as f:\n",
    "#     for url in urls_categorie2:\n",
    "#         f.write(f'{url}\\n')\n",
    "\n",
    "# urls_categorie2 = open(\"urls_categorie2.txt\", \"r\")\n",
    "# urls_categorie2 = urls_categorie2.read().split(\"\\n\")\n",
    "# urls_categorie2 = urls_categorie2[:-1]"
   ]
  },
  {
   "cell_type": "code",
   "execution_count": 110,
   "metadata": {},
   "outputs": [
    {
     "data": {
      "text/plain": [
       "216"
      ]
     },
     "execution_count": 110,
     "metadata": {},
     "output_type": "execute_result"
    }
   ],
   "source": [
    "urls_categorie3 = recuperation_url(urls_categorie2)\n",
    "len(urls_categorie3)"
   ]
  },
  {
   "cell_type": "code",
   "execution_count": 28,
   "metadata": {},
   "outputs": [],
   "source": [
    "# with open('urls_categorie3.txt', 'w') as f:\n",
    "#     for url in urls_categorie3:\n",
    "#         f.write(f'{url}\\n')\n",
    "\n",
    "# urls_categorie3 = open(\"urls_categorie3.txt\", \"r\")\n",
    "# urls_categorie3 = urls_categorie3.read().split(\"\\n\")\n",
    "# urls_categorie3 = urls_categorie3[:-1]"
   ]
  },
  {
   "cell_type": "code",
   "execution_count": 111,
   "metadata": {},
   "outputs": [
    {
     "data": {
      "text/plain": [
       "221"
      ]
     },
     "execution_count": 111,
     "metadata": {},
     "output_type": "execute_result"
    }
   ],
   "source": [
    "urls_categorie4 = recuperation_url(urls_categorie3)\n",
    "len(urls_categorie4)"
   ]
  },
  {
   "cell_type": "code",
   "execution_count": 29,
   "metadata": {},
   "outputs": [],
   "source": [
    "# with open('urls_categorie4.txt', 'w') as f:\n",
    "#     for url in urls_categorie4:\n",
    "#         f.write(f'{url}\\n')\n",
    "\n",
    "# urls_categorie4 = open(\"urls_categorie4.txt\", \"r\")\n",
    "# urls_categorie4 = urls_categorie4.read().split(\"\\n\")\n",
    "# urls_categorie4 = urls_categorie4[:-1]"
   ]
  },
  {
   "cell_type": "code",
   "execution_count": 26,
   "metadata": {},
   "outputs": [
    {
     "data": {
      "text/plain": [
       "['https://www.vinted.fr/help/26-vendre-etape-par-etape',\n",
       " 'https://www.vinted.fr/help/25-acheter-sur-vinted-toutes-les-etapes',\n",
       " 'https://www.vinted.fr/help/373-vendre-sur-vinted-c-est-gratuit',\n",
       " 'https://www.vinted.fr/help/356-comment-partager-mon-retour-d-experience-sur-vinted',\n",
       " 'https://www.vinted.fr/help/265-comment-utiliser-le-centre-d-aide',\n",
       " 'https://www.vinted.fr/help/375-ajouter-un-article-etape-par-etape',\n",
       " 'https://www.vinted.fr/help/26-vendre-etape-par-etape',\n",
       " 'https://www.vinted.fr/help/373-vendre-sur-vinted-c-est-gratuit',\n",
       " 'https://www.vinted.fr/help/52-qu-est-ce-que-je-peux-vendre-sur-vinted',\n",
       " 'https://www.vinted.fr/help/220-comment-echanger-un-article',\n",
       " 'https://www.vinted.fr/help/375-ajouter-un-article-etape-par-etape',\n",
       " 'https://www.vinted.fr/help/601-quelles-photos-dois-je-mettre-en-ligne-pour-mes-articles-de-marque',\n",
       " 'https://www.vinted.fr/help/48-comment-prendre-de-bonnes-photos',\n",
       " 'https://www.vinted.fr/help/49-comment-bien-decrire-mon-article',\n",
       " 'https://www.vinted.fr/help/50-comment-choisir-l-etat-de-mon-article',\n",
       " 'https://www.vinted.fr/help/47-comment-selectionner-une-marque',\n",
       " 'https://www.vinted.fr/help/376-comment-fixer-un-bon-prix',\n",
       " 'https://www.vinted.fr/help/51-comment-choisir-le-format-de-mon-colis',\n",
       " 'https://www.vinted.fr/help/257-comment-vendre-un-lot',\n",
       " 'https://www.vinted.fr/help/102-remettre-un-article-en-ligne',\n",
       " 'https://www.vinted.fr/help/421-en-quoi-consistent-les-brouillons-d-articles',\n",
       " 'https://www.vinted.fr/help/57-vends-tes-articles-plus-vite',\n",
       " 'https://www.vinted.fr/help/476-pourquoi-ai-je-besoin-d-abonnes',\n",
       " 'https://www.vinted.fr/help/340-comment-remonter-mes-articles-en-haut-du-catalogue',\n",
       " 'https://www.vinted.fr/help/450-comment-acheter-un-boost',\n",
       " 'https://www.vinted.fr/help/258-comment-faire-une-offre-a-mon-acheteur',\n",
       " 'https://www.vinted.fr/help/452-en-quoi-consiste-dressing-en-vitrine',\n",
       " 'https://www.vinted.fr/help/422-comment-parametrer-des-reductions-sur-mon-catalogue',\n",
       " 'https://www.vinted.fr/help/442-le-vendeur-peut-il-modifier-le-mode-de-livraison',\n",
       " 'https://www.vinted.fr/help/458-qui-paie-les-frais-de-port',\n",
       " 'https://www.vinted.fr/help/65-comment-emballer-mon-article',\n",
       " 'https://www.vinted.fr/help/482-comment-envoyer-l-article',\n",
       " 'https://www.vinted.fr/help/198-sous-quel-delai-dois-je-envoyer-mon-article',\n",
       " 'https://www.vinted.fr/help/100-comment-suivre-ton-colis',\n",
       " 'https://www.vinted.fr/help/101-combien-de-temps-prend-la-livraison',\n",
       " 'https://www.vinted.fr/help/69-quelles-infos-dois-je-entrer-pour-transferer-mon-argent',\n",
       " 'https://www.vinted.fr/help/437-en-quoi-consiste-le-porte-monnaie-vinted',\n",
       " 'https://www.vinted.fr/help/460-pourquoi-le-paiement-est-il-en-attente',\n",
       " 'https://www.vinted.fr/help/483-le-systeme-de-paiement-securise-de-vinted',\n",
       " 'https://www.vinted.fr/help/68-comment-recevoir-l-argent-de-mes-ventes-sur-mon-compte-bancaire',\n",
       " 'https://www.vinted.fr/help/235-quand-est-ce-que-le-vendeur-recevra-son-paiement',\n",
       " 'https://www.vinted.fr/help/74-mon-transfert-a-echoue',\n",
       " 'https://www.vinted.fr/help/73-le-transfert-est-revenu-dans-mon-porte-monnaie',\n",
       " 'https://www.vinted.fr/help/76-le-transfert-n-apparait-pas-sur-mon-compte-bancaire',\n",
       " 'https://www.vinted.fr/help/71-comment-recevoir-mes-paiements-sur-paypal-ou-ideal',\n",
       " 'https://www.vinted.fr/help/349-standards-de-la-communaute-vinted',\n",
       " 'https://www.vinted.fr/help/14-comment-laisser-une-evaluation',\n",
       " 'https://www.vinted.fr/help/218-pourquoi-ai-je-recu-une-evaluation-negative-de-la-part-de-vinted',\n",
       " 'https://www.vinted.fr/help/149-est-ce-que-vinted-peut-me-retirer-une-evaluation-negative',\n",
       " 'https://www.vinted.fr/help/317-comment-fonctionne-le-systeme-d-evaluation',\n",
       " 'https://www.vinted.fr/help/459-pourquoi-vinted-a-annule-ma-transaction',\n",
       " 'https://www.vinted.fr/help/272-est-ce-que-je-peux-retourner-l-article-recu',\n",
       " 'https://www.vinted.fr/help/58-est-il-possible-d-annuler-ma-transaction',\n",
       " 'https://www.vinted.fr/help/465-politique-de-remboursement-de-vinted',\n",
       " 'https://www.vinted.fr/help/267-mettre-un-article-dans-mes-favoris',\n",
       " 'https://www.vinted.fr/help/59-comment-indiquer-que-mon-article-est-reserve',\n",
       " 'https://www.vinted.fr/help/307-quelle-est-la-politique-d-authenticite-de-vinted',\n",
       " 'https://www.vinted.fr/help/60-comment-masquer-mes-articles',\n",
       " 'https://www.vinted.fr/help/52-qu-est-ce-que-je-peux-vendre-sur-vinted',\n",
       " 'https://www.vinted.fr/help/62-pourquoi-mon-article-a-t-il-ete-masque-ou-supprime',\n",
       " 'https://www.vinted.fr/help/63-pourquoi-mon-article-a-t-il-peu-de-visites',\n",
       " 'https://www.vinted.fr/help/99-conseils-pour-tes-achats',\n",
       " 'https://www.vinted.fr/help/25-acheter-sur-vinted-toutes-les-etapes',\n",
       " 'https://www.vinted.fr/help/342-la-protection-acheteurs-vinted',\n",
       " 'https://www.vinted.fr/help/220-comment-echanger-un-article',\n",
       " 'https://www.vinted.fr/help/409-comment-personnaliser-vinted',\n",
       " 'https://www.vinted.fr/help/435-abonne-toi-aux-recherches',\n",
       " 'https://www.vinted.fr/help/31-en-quoi-consiste-la-personnalisation',\n",
       " 'https://www.vinted.fr/help/99-conseils-pour-tes-achats',\n",
       " 'https://www.vinted.fr/help/267-mettre-un-article-dans-mes-favoris',\n",
       " 'https://www.vinted.fr/help/35-trouver-un-article',\n",
       " 'https://www.vinted.fr/help/178-que-faire-si-l-acheteur-a-deja-recu-l-article',\n",
       " 'https://www.vinted.fr/help/260-comment-faire-un-lot',\n",
       " 'https://www.vinted.fr/help/342-la-protection-acheteurs-vinted',\n",
       " 'https://www.vinted.fr/help/259-comment-faire-une-offre-au-vendeur',\n",
       " 'https://www.vinted.fr/help/94-les-methodes-de-paiement-acceptees',\n",
       " 'https://www.vinted.fr/help/89-ajouter-modifier-une-carte-de-credit',\n",
       " 'https://www.vinted.fr/help/342-la-protection-acheteurs-vinted',\n",
       " 'https://www.vinted.fr/help/95-comment-utiliser-un-bon-d-achat-vinted',\n",
       " 'https://www.vinted.fr/help/189-pourquoi-mon-paiement-a-t-il-echoue',\n",
       " 'https://www.vinted.fr/help/290-comment-vinted-securise-les-paiements-bancaires',\n",
       " 'https://www.vinted.fr/help/465-politique-de-remboursement-de-vinted',\n",
       " 'https://www.vinted.fr/help/66-comment-modifier-mon-adresse',\n",
       " 'https://www.vinted.fr/help/100-comment-suivre-ton-colis',\n",
       " 'https://www.vinted.fr/help/101-combien-de-temps-prend-la-livraison',\n",
       " 'https://www.vinted.fr/help/272-est-ce-que-je-peux-retourner-l-article-recu',\n",
       " 'https://www.vinted.fr/help/349-standards-de-la-communaute-vinted',\n",
       " 'https://www.vinted.fr/help/14-comment-laisser-une-evaluation',\n",
       " 'https://www.vinted.fr/help/218-pourquoi-ai-je-recu-une-evaluation-negative-de-la-part-de-vinted',\n",
       " 'https://www.vinted.fr/help/149-est-ce-que-vinted-peut-me-retirer-une-evaluation-negative',\n",
       " 'https://www.vinted.fr/help/317-comment-fonctionne-le-systeme-d-evaluation',\n",
       " 'https://www.vinted.fr/help/459-pourquoi-vinted-a-annule-ma-transaction',\n",
       " 'https://www.vinted.fr/help/272-est-ce-que-je-peux-retourner-l-article-recu',\n",
       " 'https://www.vinted.fr/help/58-est-il-possible-d-annuler-ma-transaction',\n",
       " 'https://www.vinted.fr/help/465-politique-de-remboursement-de-vinted',\n",
       " 'https://www.vinted.fr/help/465-politique-de-remboursement-de-vinted',\n",
       " 'https://www.vinted.fr/help/441-options-d-envoi-pour-les-vendeurs',\n",
       " 'https://www.vinted.fr/help/443-comment-fonctionnent-les-frais-de-port-personnalises',\n",
       " 'https://www.vinted.fr/help/447-comment-modifier-les-modes-de-livraison',\n",
       " 'https://www.vinted.fr/help/547-que-dois-je-savoir-a-propos-de-chrono-shop2shop',\n",
       " 'https://www.vinted.fr/help/574-envoi-international-guide-pour-les-vendeurs',\n",
       " 'https://www.vinted.fr/help/234-instructions-d-expedition-pour-chaque-mode-d-envoi',\n",
       " 'https://www.vinted.fr/help/442-le-vendeur-peut-il-modifier-le-mode-de-livraison',\n",
       " 'https://www.vinted.fr/help/448-comment-ajouter-une-preuve-d-envoi-numero-de-suivi-sur-vinted',\n",
       " 'https://www.vinted.fr/help/458-qui-paie-les-frais-de-port',\n",
       " 'https://www.vinted.fr/help/65-comment-emballer-mon-article',\n",
       " 'https://www.vinted.fr/help/482-comment-envoyer-l-article',\n",
       " 'https://www.vinted.fr/help/51-comment-choisir-le-format-de-mon-colis',\n",
       " 'https://www.vinted.fr/help/154-je-ne-parviens-pas-a-telecharger-le-bordereau-d-envoi',\n",
       " 'https://www.vinted.fr/help/198-sous-quel-delai-dois-je-envoyer-mon-article',\n",
       " 'https://www.vinted.fr/help/100-comment-suivre-ton-colis',\n",
       " 'https://www.vinted.fr/help/465-politique-de-remboursement-de-vinted',\n",
       " 'https://www.vinted.fr/help/444-comment-fonctionne-la-livraison-d-un-colis',\n",
       " 'https://www.vinted.fr/help/573-options-d-envoi-pour-les-acheteurs',\n",
       " 'https://www.vinted.fr/help/575-envoi-international-guide-pour-les-acheteurs',\n",
       " 'https://www.vinted.fr/help/66-comment-modifier-mon-adresse',\n",
       " 'https://www.vinted.fr/help/100-comment-suivre-ton-colis',\n",
       " 'https://www.vinted.fr/help/101-combien-de-temps-prend-la-livraison',\n",
       " 'https://www.vinted.fr/help/272-est-ce-que-je-peux-retourner-l-article-recu',\n",
       " 'https://www.vinted.fr/help/94-les-methodes-de-paiement-acceptees',\n",
       " 'https://www.vinted.fr/help/235-quand-est-ce-que-le-vendeur-recevra-son-paiement',\n",
       " 'https://www.vinted.fr/help/89-ajouter-modifier-une-carte-de-credit',\n",
       " 'https://www.vinted.fr/help/90-utiliser-paypal-sur-vinted',\n",
       " 'https://www.vinted.fr/help/95-comment-utiliser-un-bon-d-achat-vinted',\n",
       " 'https://www.vinted.fr/help/189-pourquoi-mon-paiement-a-t-il-echoue',\n",
       " 'https://www.vinted.fr/help/290-comment-vinted-securise-les-paiements-bancaires',\n",
       " 'https://www.vinted.fr/help/437-en-quoi-consiste-le-porte-monnaie-vinted',\n",
       " 'https://www.vinted.fr/help/266-comment-activer-mon-porte-monnaie-vinted',\n",
       " 'https://www.vinted.fr/help/69-quelles-infos-dois-je-entrer-pour-transferer-mon-argent',\n",
       " 'https://www.vinted.fr/help/460-pourquoi-le-paiement-est-il-en-attente',\n",
       " 'https://www.vinted.fr/help/68-comment-recevoir-l-argent-de-mes-ventes-sur-mon-compte-bancaire',\n",
       " 'https://www.vinted.fr/help/70-comment-modifier-mes-informations-bancaires',\n",
       " 'https://www.vinted.fr/help/74-mon-transfert-a-echoue',\n",
       " 'https://www.vinted.fr/help/73-le-transfert-est-revenu-dans-mon-porte-monnaie',\n",
       " 'https://www.vinted.fr/help/76-le-transfert-n-apparait-pas-sur-mon-compte-bancaire',\n",
       " 'https://www.vinted.fr/help/71-comment-recevoir-mes-paiements-sur-paypal-ou-ideal',\n",
       " 'https://www.vinted.fr/help/550-protection-acheteurs',\n",
       " 'https://www.vinted.fr/help/82-mes-achats-sont-ils-securises',\n",
       " 'https://www.vinted.fr/help/272-est-ce-que-je-peux-retourner-l-article-recu',\n",
       " 'https://www.vinted.fr/help/290-comment-vinted-securise-les-paiements-bancaires',\n",
       " 'https://www.vinted.fr/help/465-politique-de-remboursement-de-vinted',\n",
       " 'https://www.vinted.fr/help/551-securite-et-support-pour-les-vendeurs',\n",
       " 'https://www.vinted.fr/help/83-mes-ventes-sont-elles-securisees',\n",
       " 'https://www.vinted.fr/help/465-politique-de-remboursement-de-vinted',\n",
       " 'https://www.vinted.fr/help/91-comment-bloquer-un-autre-membre',\n",
       " 'https://www.vinted.fr/help/92-pourquoi-mon-compte-a-t-il-ete-bloque',\n",
       " 'https://www.vinted.fr/help/93-pourquoi-mon-adresse-ip-a-t-elle-ete-bloquee',\n",
       " 'https://www.vinted.fr/help/288-comment-signaler-un-membre',\n",
       " 'https://www.vinted.fr/help/445-comment-signaler-un-message-prive',\n",
       " 'https://www.vinted.fr/help/446-comment-signaler-un-article',\n",
       " 'https://www.vinted.fr/help/22-comment-signaler-un-contenu-inapproprie-sur-le-forum',\n",
       " 'https://www.vinted.fr/help/628-reconnaitre-les-messages-frauduleux-et-les-tentatives-de-hameconnage',\n",
       " 'https://www.vinted.fr/help/286-comment-puis-je-eviter-les-fraudes',\n",
       " 'https://www.vinted.fr/help/540-rgpd-qu-est-ce-que-cela-signifie-pour-moi-en-tant-que-membre-de-vinted',\n",
       " 'https://www.vinted.fr/help/81-mes-donnees-personnelles-sont-elles-securisees',\n",
       " 'https://www.vinted.fr/help/111-pourquoi-dois-je-vous-envoyer-ma-piece-d-identite',\n",
       " 'https://www.vinted.fr/help/537-verification-en-deux-etapes-fonctionnement',\n",
       " 'https://www.vinted.fr/help/570-verification-de-l-achat',\n",
       " 'https://www.vinted.fr/help/597-confirme-ton-identite-pour-changer-ton-adresse-e-mail',\n",
       " 'https://www.vinted.fr/help/622-la-verification-du-numero-de-telephone-n-a-pas-fonctionne',\n",
       " 'https://www.vinted.fr/help/86-comment-changer-mon-adresse-e-mail',\n",
       " 'https://www.vinted.fr/help/406-comment-faire-verifier-mon-compte-avec-google-facebook',\n",
       " 'https://www.vinted.fr/help/307-quelle-est-la-politique-d-authenticite-de-vinted',\n",
       " 'https://www.vinted.fr/help/52-qu-est-ce-que-je-peux-vendre-sur-vinted',\n",
       " 'https://www.vinted.fr/help/62-pourquoi-mon-article-a-t-il-ete-masque-ou-supprime',\n",
       " 'https://www.vinted.fr/help/24-regles-du-forum',\n",
       " 'https://www.vinted.fr/help/349-standards-de-la-communaute-vinted',\n",
       " 'https://www.vinted.fr/help/23-pourquoi-mon-sujet-commentaire-a-t-il-ete-supprime',\n",
       " 'https://www.vinted.fr/help/22-comment-signaler-un-contenu-inapproprie-sur-le-forum',\n",
       " 'https://www.vinted.fr/help/59-comment-indiquer-que-mon-article-est-reserve',\n",
       " 'https://www.vinted.fr/help/340-comment-remonter-mes-articles-en-haut-du-catalogue',\n",
       " 'https://www.vinted.fr/help/60-comment-masquer-mes-articles',\n",
       " 'https://www.vinted.fr/help/80-est-ce-que-vinted-peut-utiliser-mes-photos',\n",
       " 'https://www.vinted.fr/help/33-le-mode-vacances',\n",
       " 'https://www.vinted.fr/help/62-pourquoi-mon-article-a-t-il-ete-masque-ou-supprime',\n",
       " 'https://www.vinted.fr/help/422-comment-parametrer-des-reductions-sur-mon-catalogue',\n",
       " 'https://www.vinted.fr/help/402-comment-remplir-modifier-les-informations-de-mon-profil',\n",
       " 'https://www.vinted.fr/help/597-confirme-ton-identite-pour-changer-ton-adresse-e-mail',\n",
       " 'https://www.vinted.fr/help/405-les-informations-de-mon-profil-sont-elles-visibles-aux-autres-membres',\n",
       " 'https://www.vinted.fr/help/404-a-quoi-consiste-la-partie-a-propos-de-moi',\n",
       " 'https://www.vinted.fr/help/33-le-mode-vacances',\n",
       " 'https://www.vinted.fr/help/86-comment-changer-mon-adresse-e-mail',\n",
       " 'https://www.vinted.fr/help/84-est-il-possible-de-modifier-mon-identifiant',\n",
       " 'https://www.vinted.fr/help/106-comment-changer-mon-mot-de-passe',\n",
       " 'https://www.vinted.fr/help/88-comment-supprimer-mon-compte',\n",
       " 'https://www.vinted.fr/help/406-comment-faire-verifier-mon-compte-avec-google-facebook',\n",
       " 'https://www.vinted.fr/help/447-comment-modifier-les-modes-de-livraison',\n",
       " 'https://www.vinted.fr/help/66-comment-modifier-mon-adresse',\n",
       " 'https://www.vinted.fr/help/89-ajouter-modifier-une-carte-de-credit',\n",
       " 'https://www.vinted.fr/help/70-comment-modifier-mes-informations-bancaires',\n",
       " 'https://www.vinted.fr/help/90-utiliser-paypal-sur-vinted',\n",
       " 'https://www.vinted.fr/help/437-en-quoi-consiste-le-porte-monnaie-vinted',\n",
       " 'https://www.vinted.fr/help/266-comment-activer-mon-porte-monnaie-vinted',\n",
       " 'https://www.vinted.fr/help/409-comment-personnaliser-vinted',\n",
       " 'https://www.vinted.fr/help/31-en-quoi-consiste-la-personnalisation',\n",
       " 'https://www.vinted.fr/help/318-comment-inviter-tes-amis-sur-vinted',\n",
       " 'https://www.vinted.fr/help/433-comment-parametrer-les-notifications-push-sur-ton-telephone',\n",
       " 'https://www.vinted.fr/help/434-comment-parametrer-mes-notifications-par-e-mail',\n",
       " 'https://www.vinted.fr/help/435-abonne-toi-aux-recherches',\n",
       " 'https://www.vinted.fr/help/32-parametrer-mes-notifications',\n",
       " 'https://www.vinted.fr/help/92-pourquoi-mon-compte-a-t-il-ete-bloque',\n",
       " 'https://www.vinted.fr/help/206-comment-resoudre-un-bug',\n",
       " 'https://www.vinted.fr/help/24-regles-du-forum',\n",
       " 'https://www.vinted.fr/help/19-comment-creer-un-sujet-sur-le-forum',\n",
       " 'https://www.vinted.fr/help/20-comment-poster-anonymement',\n",
       " 'https://www.vinted.fr/help/21-mes-sujets-sur-le-forum',\n",
       " 'https://www.vinted.fr/help/23-pourquoi-mon-sujet-commentaire-a-t-il-ete-supprime',\n",
       " 'https://www.vinted.fr/help/22-comment-signaler-un-contenu-inapproprie-sur-le-forum',\n",
       " 'https://www.vinted.fr/help/288-comment-signaler-un-membre',\n",
       " 'https://www.vinted.fr/help/318-comment-inviter-tes-amis-sur-vinted',\n",
       " 'https://www.vinted.fr/help/349-standards-de-la-communaute-vinted',\n",
       " 'https://www.vinted.fr/help/476-pourquoi-ai-je-besoin-d-abonnes',\n",
       " 'https://www.vinted.fr/help/91-comment-bloquer-un-autre-membre',\n",
       " 'https://www.vinted.fr/help/587-je-me-suis-inscrit-avec-une-mauvaise-adresse-e-mail',\n",
       " 'https://www.vinted.fr/help/588-je-n-ai-pas-de-compte-mais-je-recois-des-courriels-de-vinted',\n",
       " 'https://www.vinted.fr/help/105-comment-s-inscrire-sur-vinted',\n",
       " 'https://www.vinted.fr/help/104-tu-n-arrives-pas-a-te-connecter-a-ton-compte',\n",
       " 'https://www.vinted.fr/help/92-pourquoi-mon-compte-a-t-il-ete-bloque',\n",
       " 'https://www.vinted.fr/help/93-pourquoi-mon-adresse-ip-a-t-elle-ete-bloquee',\n",
       " 'https://www.vinted.fr/help/106-comment-changer-mon-mot-de-passe',\n",
       " 'https://www.vinted.fr/help/315-j-essaie-de-m-inscrire-sur-vinted-mais-mon-adresse-e-mail-est-prise']"
      ]
     },
     "execution_count": 26,
     "metadata": {},
     "output_type": "execute_result"
    }
   ],
   "source": [
    "urls_categorie4"
   ]
  },
  {
   "cell_type": "markdown",
   "metadata": {},
   "source": [
    "### 3. Récupérer les réponses associés aux urls des questions"
   ]
  },
  {
   "cell_type": "code",
   "execution_count": 10,
   "metadata": {},
   "outputs": [],
   "source": [
    "def ValidTag(monTag):\n",
    "    if type(monTag) == Tag and monTag.has_attr(\"class\"):\n",
    "        # Tag 'tab-content' : parfois il y avait plusieurs onglets dans les réponses (format web, format ios et format android) pour afficher la réponse selon le device que l'utilisateur utilise\n",
    "            # nous avons choisi de prendre uniquement le web (à voir) => donc pour l'instant on retourne False \n",
    "        # Tag 'nav-tabs-horizontal' : correspond à la barre qui affiche si on veut regarder la réponde pour IOS/ANDROID ou WEB\n",
    "        # Tag 'table-wrapper' supprimé : on supprime le texte présent dans ce Tag qui correspond à des tableaux afin de remplacer par une meilleure mise en page de tableau\n",
    "        if ' '.join(monTag.attrs[\"class\"]) in ['tab-content', 'nav-tabs-horizontal', '“table-wrapper”']:\n",
    "            return False\n",
    "    return True"
   ]
  },
  {
   "cell_type": "code",
   "execution_count": 11,
   "metadata": {},
   "outputs": [],
   "source": [
    "def getSelectedText(monTag):\n",
    "    texte = []\n",
    "    for child in monTag.children :\n",
    "        if type(child) == NavigableString :\n",
    "            if (child.string).strip() != '' and (child.string).strip() != ' ' :\n",
    "                texte.append( \" \" + (child.string).strip().replace('\\n', '') )\n",
    "                \n",
    "        ## Récupération des tableaux\n",
    "        if type(child) == Tag and child.has_attr(\"class\") and ' '.join(child.attrs[\"class\"]) in ['“table-wrapper”']:\n",
    "            tables = child.findAll('table')\n",
    "\n",
    "\n",
    "            l = []\n",
    "            nbr_valeur_ligne = []\n",
    "            colonne = []\n",
    "        \n",
    "            # pour chaque ligne du tableau:\n",
    "            for i,tr in enumerate(tables[0].findAll('tr')):\n",
    "                # si la ligne contient un 'rowspan' c'est à dire une case pour plusieurs lignes\n",
    "                if 'rowspan' in str(tr) : \n",
    "                    # récupère le numéro de cette ligne\n",
    "                    valeur_depart = i \n",
    "                    # on ajoute à une liste l'ensemble des textes présents sur la ligne\n",
    "                l.append(tr.text.replace('\\n', '|#|'))\n",
    "            # on récupère l'entête du tableau\n",
    "            liste_entete = l[0].split('|#|')\n",
    "            # on supprime les élément vides\n",
    "            while '' in liste_entete : \n",
    "                liste_entete.remove('')\n",
    "                \n",
    "            a_change = []\n",
    "            # on parcourt les lignes du tableaux ayant l'attribut 'td'\n",
    "            for i,td in enumerate(tables[0].findAll('td')) :\n",
    "                # si cet attribut contient un 'rowspan':\n",
    "                if td.has_attr(\"rowspan\") :\n",
    "                    # on récupère le numéro de la colonne correspondant\n",
    "                    num_colonne = i % len(liste_entete) \n",
    "                    # nombre de lignes concernées par cette exception\n",
    "                    nbr_fois_lig = td.attrs['rowspan']\n",
    "                    # valeur correspondante qui doit être recopiée\n",
    "                    valeur_a_ajouter = td.text\n",
    "                    # on récupère l'indice des lignes ayant une valeur manquante\n",
    "                    a_change = [valeur_depart + o for o in range(2,int(nbr_fois_lig)+1)]\n",
    "\n",
    "                    \n",
    "            # création d'un compteur correspondant aux index des lignes        \n",
    "            n = 1 \n",
    "            # pour chaque ligne du tableau (sans le nom des colonnes)\n",
    "            for mot in l[1::] : \n",
    "                n +=1\n",
    "                # on découpe la ligne selon '|#|'\n",
    "                # on obtient une liste contenant l'ensemble des mots de la ligne\n",
    "                ligne = mot.split('|#|') \n",
    "                while '' in ligne : \n",
    "                    ligne.remove('')\n",
    "                # si l'index de la ligne est présent dans la liste à changer\n",
    "                if n in a_change: \n",
    "                    # on ajoute la valeur à ajouter au numéro de colonne correspondant\n",
    "                    ligne[num_colonne:num_colonne] = [valeur_a_ajouter]\n",
    "                # affichage final du tableau\n",
    "                for i in range(0,len(liste_entete)) : \n",
    "                    texte.append( (str(liste_entete[i]) +  \" : \" + str(ligne[i])).replace('\\n', '') )\n",
    "                texte.append( '------' )      \n",
    "                \n",
    "        \n",
    "                \n",
    "        if type(child) == Tag and ValidTag(child) and child.name != 'table':\n",
    "            if getSelectedText(child).strip() != '' and getSelectedText(child).strip() != ' ' :\n",
    "                texte.append( getSelectedText(child).strip().replace('\\n', '') )\n",
    "                \n",
    "                \n",
    "        if type(child) == Tag and child.name == 'table':\n",
    "            tables = child.find('table')\n",
    "        \n",
    "            l = []\n",
    "            nbr_valeur_ligne = []\n",
    "            colonne = []\n",
    "        \n",
    "            # pour chaque ligne du tableau:\n",
    "            for i,tr in enumerate([child][0].findAll('tr')):\n",
    "                # si la ligne contient un 'rowspan' c'est à dire une case pour plusieurs lignes\n",
    "                if 'rowspan' in str(tr) : \n",
    "                    # récupère le numéro de cette ligne\n",
    "                    valeur_depart = i \n",
    "                    # on ajoute à une liste l'ensemble des textes présents sur la ligne\n",
    "                l.append(tr.text.replace('\\n', '|#|'))\n",
    "            # on récupère l'entête du tableau\n",
    "            liste_entete = l[0].split('|#|')\n",
    "            # on supprime les élément vides\n",
    "            while '' in liste_entete : \n",
    "                liste_entete.remove('')\n",
    "                \n",
    "            a_change = []\n",
    "            # on parcourt les lignes du tableaux ayant l'attribut 'td'\n",
    "            for i,td in enumerate([child][0].findAll('td')) :\n",
    "                # si cet attribut contient un 'rowspan':\n",
    "                if td.has_attr(\"rowspan\") :\n",
    "                    # on récupère le numéro de la colonne correspondant\n",
    "                    num_colonne = i % len(liste_entete) \n",
    "                    # nombre de lignes concernées par cette exception\n",
    "                    nbr_fois_lig = td.attrs['rowspan']\n",
    "                    # valeur correspondante qui doit être recopiée\n",
    "                    valeur_a_ajouter = td.text\n",
    "                    # on récupère l'indice des lignes ayant une valeur manquante\n",
    "                    a_change = [valeur_depart + o for o in range(2,int(nbr_fois_lig)+1)]\n",
    "\n",
    "                    \n",
    "            # création d'un compteur correspondant aux index des lignes        \n",
    "            n = 1 \n",
    "            # pour chaque ligne du tableau (sans le nom des colonnes)\n",
    "            for mot in l[1::] : \n",
    "                n +=1\n",
    "                # on découpe la ligne selon '|#|'\n",
    "                # on obtient une liste contenant l'ensemble des mots de la ligne\n",
    "                ligne = mot.split('|#|') \n",
    "                while '' in ligne : \n",
    "                    ligne.remove('')\n",
    "                # si l'index de la ligne est présent dans la liste à changer\n",
    "                if n in a_change: \n",
    "                    # on ajoute la valeur à ajouter au numéro de colonne correspondant\n",
    "                    ligne[num_colonne:num_colonne] = [valeur_a_ajouter]\n",
    "                # affichage final du tableau\n",
    "                for i in range(0,len(liste_entete)) : \n",
    "                    texte.append( (str(liste_entete[i]) +  \" : \" + str(ligne[i])).replace('\\n', '') )\n",
    "                texte.append( '------' )             \n",
    "        \n",
    "    texte_final = '\\n'.join(texte)\n",
    "    return texte_final"
   ]
  },
  {
   "cell_type": "markdown",
   "metadata": {},
   "source": [
    "On peut donc désormais récupérer l'ensemble des textes qui correspondent aux réponses."
   ]
  },
  {
   "cell_type": "code",
   "execution_count": 12,
   "metadata": {},
   "outputs": [
    {
     "data": {
      "text/plain": [
       "['Vendre, étape par étape\\nVendre un article, c’est simple et gratuit ! Voilà comment faire :\\nMettre en ligne un article.\\nAjoute debelles photos de l’article, écris unedescription détaillée,fixe le prix de ton article, choisis unetaille pour le colis .La mise en ligne d’un article est gratuite.Mettre en ligne plus d’un article aide à vendre plus vite.\\nConfigure ton profil.\\nParamètre tonporte-monnaie Vinted et faisvérifier ton compte .Sélectionne le transport et les modes de paiement dans tes paramètres. Tu peux également faire une promotion sur ton catalogue.En ajoutant unedescription et une photo sur ton profil , tu renforceras la confiance des autres membres.\\nAttends les acheteurs.\\nSois prêt à répondre aux questions des acheteurs.Clique sur le boutonFaire une offre si tu veux proposer un meilleur prix.Tu seras notifié durant tout le processus d’achat de ton acheteur.\\nArticle vendu : il est temps de l’envoyer.\\nEmballe ton article (une touche personnelle est toujours appréciée)Envoie l’article avec le mode de livraison choisi par l’acheteur.Suis les instructions de livraison, mais veille bien à envoyer l’article dans les 5 jours après l’achat.En envoyant l’article rapidement, tu ne risques pas de voir ta commande être automatiquement annulée et remboursée.Si l’acheteur a choisi un mode de livraison avec suivi, vous pouvez, ton acheteur et toi, suivre la livraison de l’article au sein même de l’application Vinted.\\nReçu ! Laisse une évaluation et reçois ton paiement.\\nDès que l’acheteur clique surTout est ok, le statut de ton paiement passe automatiquement àEn cours dans ton porte-monnaie Vinted.Les transferts d’argent peuvent mettre jusqu’à 4 jours ouvrés pour apparaître dans ton compte bancaire (cela peut dépendre du mode/transfert bancaire utilisé).Tu peux maintenant laisser une évaluation pour ton acheteur et dire aux autres membres ce que tu penses.',\n",
       " \"Acheter sur Vinted : toutes les étapes\\nTrouve un article qui te plaît\\nL'icône en forme de cœur te permet de sauvegarder les articles que tu aimes dans tes favoris.Suis tes marques et tes membres préférés, ainsi leurs articles apparaîtront dans ton fil d'actualité. Pour accéder au fil d'actualité ou à l'onglet tendance sur appli, clique simplement sur l'icône en forme de boussole situé sur l'extrémité gauche du menu de navigation.Tu peux filtrer les articles par taille.Utilise les autres filtres de notre catalogue pour trier les articles par marque/couleur/prix, etc.Cliquer surTrier pour organiser les résultats de ta recherche par nouveauté, prix croissant, prix décroissant et cohérence avec l'article recherché.\\nContacte le vendeur\\nClique surEnvoyer un message.Dans la fenêtre qui s'ouvre, tu peux :Discuter avec le membre.Proposer un autre prix via le boutonFaire une offre.Procéder à l'achat immédiat de l'article.Demander plus d'informations au sujet de l'article.\\nAchète l'article\\nClique surAcheter et procède au paiement de l'article.Lors de ton premier achat, tu devrasentrer les données de ta carte bancaire .Tu peux régler ton achat par carte bancaire via iDEAL ou ton compte PayPal (dans le cas d’un envoi en suivi uniquement).Le prix à payer comprend les frais de livraison et les frais de protection acheteurs  de 5% + 0.70 € qui s’appliquent pour tous paiements effectués sur Vinted.Vérifie ton adresse de livraison.Les frais de port varient de 2,80€ à 8,50€ et dépendent du poids du colis et du mode d'envoi que tu choisis.Tu peux ajouter/modifier tes modes de paiement depuis la pageMes paramètres (web) ouParamètres (appli mobile).\\nRéceptionne ton article\\nArticle acheté ! Tu n'as plus qu'à attendre de le recevoir.Le vendeur a 5 jours ouvrés pour expédier son colis via La Poste ou Mondial Relay (selon le mode de livraison que tu as choisi).Dès que le colis a été scanné par le système d'envoi, tu peux suivreson acheminement directement sur Vinted, depuis ta conversation avec le vendeur.Il faut généralement compter 2 à 5 jours ouvrés pour recevoir ton colis.Article livré ! Indique-nous que tu l'asBien reçu.\\nQuand le colis est indiqué comme livré sur Vinted,tu as deux possibilités :\\nClique surTout est ok si l'article est conforme.Clique surJ'ai un problème pour suspendre la transaction et nous contacter. Ce bouton est accessible après avoir cliqué sur le boutonBien Reçu .\\nSans action de ta part dans un délai de 2 jours, la transaction est automatiquement validée et une évaluation est laissée sur le profil du vendeur.\\nIl est important de maintenir un climat de confiance au sein de la communauté Vinted.\\nInfos utiles\\nVinted terembourse intégralement (prix de l'article + frais de port initiaux) si l'article est arrivé endommagé ou est non conforme à sa description.Confirme ton adresse mail sur Vinted, ainsi tu recevras bien tous les mails concernant tes commandes.Si tu possèdes un bon d'achat en cours de validité, il est automatiquement pris en compte lors de ton achat.\",\n",
       " \"Vendre sur Vinted, c'est gratuit ?\\nIl n'y a pas de frais quand tu ajoutes et vends un article sur Vinted : mettre en ligne des articles et les vendre est donc gratuit. Cela signifie que tu reçois directement dans tonporte-monnaie le montant que tu as fixé pour ton article.\\nCommence à vendre !\"]"
      ]
     },
     "execution_count": 12,
     "metadata": {},
     "output_type": "execute_result"
    }
   ],
   "source": [
    "liste_reponses = []\n",
    "for url in urls_categorie4 :\n",
    "    try :\n",
    "        html = urlopen(url)\n",
    "    except (HTTPError, URLError) as e :\n",
    "        sys.exit(e)\n",
    "    \n",
    "    # On récupère les réponses dans la variable 'liste_reponses'\n",
    "    # On remplace certains codes par leur signification\n",
    "    bsObj = BeautifulSoup(html, \"lxml\")\n",
    "    maDiv = bsObj.find(\"div\", class_=\"site\").find(\"div\", class_=\"body-content\").find(\"div\", class_=\"faq__question-answer faq-content\")\n",
    "    texte = getSelectedText(maDiv).strip().replace('\\xa0', ' ').replace('\\u200b', ' ').replace('\\u2192', ' ').replace('\\u2194', ' ').replace('\\u2028', ' ')\n",
    "    liste_reponses.append(texte)\n",
    "liste_reponses[0:3]"
   ]
  },
  {
   "cell_type": "code",
   "execution_count": 14,
   "metadata": {},
   "outputs": [],
   "source": [
    "# with open('Reponses.txt', 'w') as f:\n",
    "#     for texte in liste_reponses:\n",
    "#         f.write(f'{str(texte)}|#|')\n"
   ]
  },
  {
   "cell_type": "code",
   "execution_count": 18,
   "metadata": {},
   "outputs": [],
   "source": [
    "# ajouter le retour à la ligne"
   ]
  },
  {
   "cell_type": "markdown",
   "metadata": {},
   "source": [
    "### 4. Récupérer toutes les questions"
   ]
  },
  {
   "cell_type": "code",
   "execution_count": 15,
   "metadata": {},
   "outputs": [
    {
     "data": {
      "text/plain": [
       "['Comment ça marche',\n",
       " 'Vendre',\n",
       " 'Acheter',\n",
       " 'Envoi',\n",
       " 'Paiements et transferts',\n",
       " 'Confiance et sécurité',\n",
       " 'Mon compte & Paramètres',\n",
       " 'Communauté',\n",
       " 'Se connecter']"
      ]
     },
     "execution_count": 15,
     "metadata": {},
     "output_type": "execute_result"
    }
   ],
   "source": [
    "# On récupère le nom des neuf premières catégories \n",
    "question = (BeautifulSoup(response.text)\n",
    "          .select(\"html body div.site div.container div.faq div.faq__categories  div.faq__category-title\"))\n",
    "\n",
    "liste_categories = []\n",
    "for i in range(0,len(question)) :\n",
    "    liste_categories.append(question[i].text.strip())\n",
    "liste_categories"
   ]
  },
  {
   "cell_type": "markdown",
   "metadata": {},
   "source": [
    "On créé une fonction permettant de récupérer l'ensemble des chemins menant aux questions."
   ]
  },
  {
   "cell_type": "code",
   "execution_count": 16,
   "metadata": {},
   "outputs": [],
   "source": [
    "def chemin_question(urls_cat, liste_prec):\n",
    "    liste_chemin = []\n",
    "    num=0\n",
    "    # pour chaque url de la catégorie:\n",
    "    for url in urls_cat : \n",
    "            response = requests.get(url)\n",
    "            # on récupère le titre des sous catégories/questions\n",
    "            question = (BeautifulSoup(response.text)\n",
    "                  .select(\"html body div.site div.container div.faq div.c-cell__title\"))\n",
    "            # s'il y a des questions:\n",
    "            if question != [] :\n",
    "                # pour chaque numéro de question:\n",
    "                for i in range(0,len(question)):\n",
    "                    # on ajoute le chemin précédent + le titre de la sous catégorie/question\n",
    "                    liste_chemin.append(liste_prec[num] + ' ' + question[i].text.strip())\n",
    "            else:\n",
    "                # sinon on garde le chemin actuel\n",
    "                liste_chemin.append( liste_prec[num] )\n",
    "            num+=1        \n",
    "    return liste_chemin"
   ]
  },
  {
   "cell_type": "code",
   "execution_count": 17,
   "metadata": {},
   "outputs": [],
   "source": [
    "chemin1 = chemin_question(urls_categorie1, liste_categories)"
   ]
  },
  {
   "cell_type": "code",
   "execution_count": 18,
   "metadata": {},
   "outputs": [],
   "source": [
    "chemin2 = chemin_question(urls_categorie2, chemin1)"
   ]
  },
  {
   "cell_type": "code",
   "execution_count": 30,
   "metadata": {},
   "outputs": [],
   "source": [
    "chemin3 = chemin_question(urls_categorie3, chemin2)"
   ]
  },
  {
   "cell_type": "code",
   "execution_count": 33,
   "metadata": {},
   "outputs": [],
   "source": [
    "liste_questions = chemin_question(urls_categorie4, chemin3)"
   ]
  },
  {
   "cell_type": "markdown",
   "metadata": {},
   "source": [
    "### 5. Création de catégories thématiques de questions :"
   ]
  },
  {
   "cell_type": "code",
   "execution_count": 78,
   "metadata": {},
   "outputs": [
    {
     "data": {
      "text/plain": [
       "['Comment ça marche Vendre, étape par étape',\n",
       " 'Comment ça marche Acheter sur Vinted : toutes les étapes',\n",
       " \"Comment ça marche Vendre sur Vinted, c'est gratuit ?\",\n",
       " 'Comment ça marche Comment partager mon retour d’expérience sur Vinted ?',\n",
       " \"Comment ça marche Comment utiliser le Centre d'aide ?\",\n",
       " 'Vendre Vendre sur Vinted',\n",
       " 'Vendre Vendre sur Vinted',\n",
       " 'Vendre Vendre sur Vinted',\n",
       " 'Vendre Vendre sur Vinted',\n",
       " 'Vendre Vendre sur Vinted',\n",
       " 'Vendre Télécharger un article',\n",
       " 'Vendre Télécharger un article',\n",
       " 'Vendre Télécharger un article',\n",
       " 'Vendre Télécharger un article',\n",
       " 'Vendre Télécharger un article']"
      ]
     },
     "execution_count": 78,
     "metadata": {},
     "output_type": "execute_result"
    }
   ],
   "source": [
    "liste_categories_them = []\n",
    "for num in range(0,len(chemin1)) :\n",
    "    for elem in range(0,len(liste_questions)) :\n",
    "        if re.findall(chemin1[num], str(liste_questions[elem])) != [] :\n",
    "            liste_categories_them.append(chemin1[num])\n",
    "liste_categories_them[0:15]"
   ]
  },
  {
   "cell_type": "markdown",
   "metadata": {},
   "source": [
    "### 6. Création d'un dataframe contenant les questions et les réponses "
   ]
  },
  {
   "cell_type": "code",
   "execution_count": 79,
   "metadata": {},
   "outputs": [
    {
     "data": {
      "text/html": [
       "<div>\n",
       "<style scoped>\n",
       "    .dataframe tbody tr th:only-of-type {\n",
       "        vertical-align: middle;\n",
       "    }\n",
       "\n",
       "    .dataframe tbody tr th {\n",
       "        vertical-align: top;\n",
       "    }\n",
       "\n",
       "    .dataframe thead th {\n",
       "        text-align: right;\n",
       "    }\n",
       "</style>\n",
       "<table border=\"1\" class=\"dataframe\">\n",
       "  <thead>\n",
       "    <tr style=\"text-align: right;\">\n",
       "      <th></th>\n",
       "      <th>question</th>\n",
       "      <th>reponse</th>\n",
       "      <th>thematiques</th>\n",
       "    </tr>\n",
       "  </thead>\n",
       "  <tbody>\n",
       "    <tr>\n",
       "      <td>0</td>\n",
       "      <td>Comment ça marche Vendre, étape par étape</td>\n",
       "      <td>Vendre, étape par étape\\nVendre un article, c’...</td>\n",
       "      <td>Comment ça marche Vendre, étape par étape</td>\n",
       "    </tr>\n",
       "    <tr>\n",
       "      <td>1</td>\n",
       "      <td>Comment ça marche Acheter sur Vinted : toutes ...</td>\n",
       "      <td>Acheter sur Vinted : toutes les étapes\\nTrouve...</td>\n",
       "      <td>Comment ça marche Acheter sur Vinted : toutes ...</td>\n",
       "    </tr>\n",
       "    <tr>\n",
       "      <td>2</td>\n",
       "      <td>Comment ça marche Vendre sur Vinted, c'est gra...</td>\n",
       "      <td>Vendre sur Vinted, c'est gratuit ?\\nIl n'y a p...</td>\n",
       "      <td>Comment ça marche Vendre sur Vinted, c'est gra...</td>\n",
       "    </tr>\n",
       "    <tr>\n",
       "      <td>3</td>\n",
       "      <td>Comment ça marche Comment partager mon retour ...</td>\n",
       "      <td>Comment partager mon retour d’expérience sur V...</td>\n",
       "      <td>Comment ça marche Comment partager mon retour ...</td>\n",
       "    </tr>\n",
       "    <tr>\n",
       "      <td>4</td>\n",
       "      <td>Comment ça marche Comment utiliser le Centre d...</td>\n",
       "      <td>Comment utiliser le Centre d'aide ?\\nSur notre...</td>\n",
       "      <td>Comment ça marche Comment utiliser le Centre d...</td>\n",
       "    </tr>\n",
       "    <tr>\n",
       "      <td>5</td>\n",
       "      <td>Vendre Vendre sur Vinted Ajouter un article ét...</td>\n",
       "      <td>Ajouter un article étape par étape\\nVoici comm...</td>\n",
       "      <td>Vendre Vendre sur Vinted</td>\n",
       "    </tr>\n",
       "    <tr>\n",
       "      <td>6</td>\n",
       "      <td>Vendre Vendre sur Vinted Vendre, étape par étape</td>\n",
       "      <td>Vendre, étape par étape\\nVendre un article, c’...</td>\n",
       "      <td>Vendre Vendre sur Vinted</td>\n",
       "    </tr>\n",
       "    <tr>\n",
       "      <td>7</td>\n",
       "      <td>Vendre Vendre sur Vinted Vendre sur Vinted, c'...</td>\n",
       "      <td>Vendre sur Vinted, c'est gratuit ?\\nIl n'y a p...</td>\n",
       "      <td>Vendre Vendre sur Vinted</td>\n",
       "    </tr>\n",
       "    <tr>\n",
       "      <td>8</td>\n",
       "      <td>Vendre Vendre sur Vinted Qu'est-ce que je peux...</td>\n",
       "      <td>Qu'est-ce que je peux vendre sur Vinted ?\\nVoi...</td>\n",
       "      <td>Vendre Vendre sur Vinted</td>\n",
       "    </tr>\n",
       "    <tr>\n",
       "      <td>9</td>\n",
       "      <td>Vendre Vendre sur Vinted Comment échanger un a...</td>\n",
       "      <td>Comment échanger un article\\nÉchanger des arti...</td>\n",
       "      <td>Vendre Vendre sur Vinted</td>\n",
       "    </tr>\n",
       "  </tbody>\n",
       "</table>\n",
       "</div>"
      ],
      "text/plain": [
       "                                            question  \\\n",
       "0          Comment ça marche Vendre, étape par étape   \n",
       "1  Comment ça marche Acheter sur Vinted : toutes ...   \n",
       "2  Comment ça marche Vendre sur Vinted, c'est gra...   \n",
       "3  Comment ça marche Comment partager mon retour ...   \n",
       "4  Comment ça marche Comment utiliser le Centre d...   \n",
       "5  Vendre Vendre sur Vinted Ajouter un article ét...   \n",
       "6   Vendre Vendre sur Vinted Vendre, étape par étape   \n",
       "7  Vendre Vendre sur Vinted Vendre sur Vinted, c'...   \n",
       "8  Vendre Vendre sur Vinted Qu'est-ce que je peux...   \n",
       "9  Vendre Vendre sur Vinted Comment échanger un a...   \n",
       "\n",
       "                                             reponse  \\\n",
       "0  Vendre, étape par étape\\nVendre un article, c’...   \n",
       "1  Acheter sur Vinted : toutes les étapes\\nTrouve...   \n",
       "2  Vendre sur Vinted, c'est gratuit ?\\nIl n'y a p...   \n",
       "3  Comment partager mon retour d’expérience sur V...   \n",
       "4  Comment utiliser le Centre d'aide ?\\nSur notre...   \n",
       "5  Ajouter un article étape par étape\\nVoici comm...   \n",
       "6  Vendre, étape par étape\\nVendre un article, c’...   \n",
       "7  Vendre sur Vinted, c'est gratuit ?\\nIl n'y a p...   \n",
       "8  Qu'est-ce que je peux vendre sur Vinted ?\\nVoi...   \n",
       "9  Comment échanger un article\\nÉchanger des arti...   \n",
       "\n",
       "                                         thematiques  \n",
       "0          Comment ça marche Vendre, étape par étape  \n",
       "1  Comment ça marche Acheter sur Vinted : toutes ...  \n",
       "2  Comment ça marche Vendre sur Vinted, c'est gra...  \n",
       "3  Comment ça marche Comment partager mon retour ...  \n",
       "4  Comment ça marche Comment utiliser le Centre d...  \n",
       "5                           Vendre Vendre sur Vinted  \n",
       "6                           Vendre Vendre sur Vinted  \n",
       "7                           Vendre Vendre sur Vinted  \n",
       "8                           Vendre Vendre sur Vinted  \n",
       "9                           Vendre Vendre sur Vinted  "
      ]
     },
     "execution_count": 79,
     "metadata": {},
     "output_type": "execute_result"
    }
   ],
   "source": [
    "dataQR = pd.DataFrame({'question': liste_questions, 'reponse': liste_reponses, 'thematiques': liste_categories_them})\n",
    "dataQR['question'] = dataQR['question'].astype(str)\n",
    "dataQR['thematiques'] = dataQR['thematiques'].astype(str)\n",
    "dataQR.head(10)"
   ]
  },
  {
   "cell_type": "code",
   "execution_count": 80,
   "metadata": {},
   "outputs": [
    {
     "name": "stdout",
     "output_type": "stream",
     "text": [
      "Le nombre de questions est :  221\n",
      "Le nombre de réponses est :  221\n"
     ]
    },
    {
     "data": {
      "text/plain": [
       "array(['Comment ça marche Vendre, étape par étape',\n",
       "       'Comment ça marche Acheter sur Vinted : toutes les étapes',\n",
       "       \"Comment ça marche Vendre sur Vinted, c'est gratuit ?\",\n",
       "       'Comment ça marche Comment partager mon retour d’expérience sur Vinted ?',\n",
       "       \"Comment ça marche Comment utiliser le Centre d'aide ?\",\n",
       "       'Vendre Vendre sur Vinted Ajouter un article étape par étape',\n",
       "       'Vendre Vendre sur Vinted Vendre, étape par étape',\n",
       "       \"Vendre Vendre sur Vinted Vendre sur Vinted, c'est gratuit ?\",\n",
       "       \"Vendre Vendre sur Vinted Qu'est-ce que je peux vendre sur Vinted ?\",\n",
       "       'Vendre Vendre sur Vinted Comment échanger un article',\n",
       "       'Vendre Télécharger un article Ajouter un article étape par étape',\n",
       "       'Vendre Télécharger un article Quelles photos dois-je mettre en ligne pour mes articles de marque ?',\n",
       "       'Vendre Télécharger un article Comment prendre de bonnes photos ?',\n",
       "       'Vendre Télécharger un article Comment bien décrire mon article ?',\n",
       "       \"Vendre Télécharger un article Comment choisir l'état de mon article ?\"],\n",
       "      dtype=object)"
      ]
     },
     "execution_count": 80,
     "metadata": {},
     "output_type": "execute_result"
    }
   ],
   "source": [
    "# On vérifie combien de questions et de réponses on a.\n",
    "print(\"Le nombre de questions est : \", len(dataQR['question']))\n",
    "print(\"Le nombre de réponses est : \", len(dataQR['reponse']))\n",
    "\n",
    "# afficher les 15 premières données\n",
    "dataQR['question'].values[:15] "
   ]
  },
  {
   "cell_type": "markdown",
   "metadata": {},
   "source": [
    "On enregistre le dataframe obtenu ici pour pouvoir l'utiliser dans un nouveau notebook."
   ]
  },
  {
   "cell_type": "code",
   "execution_count": 81,
   "metadata": {},
   "outputs": [],
   "source": [
    "dataQR.to_csv(\"dataQR.csv\", sep=';', index = False)"
   ]
  },
  {
   "cell_type": "code",
   "execution_count": null,
   "metadata": {},
   "outputs": [],
   "source": []
  }
 ],
 "metadata": {
  "kernelspec": {
   "display_name": "Python 3",
   "language": "python",
   "name": "python3"
  },
  "language_info": {
   "codemirror_mode": {
    "name": "ipython",
    "version": 3
   },
   "file_extension": ".py",
   "mimetype": "text/x-python",
   "name": "python",
   "nbconvert_exporter": "python",
   "pygments_lexer": "ipython3",
   "version": "3.7.4"
  }
 },
 "nbformat": 4,
 "nbformat_minor": 4
}
